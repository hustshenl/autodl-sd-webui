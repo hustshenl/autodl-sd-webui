{
 "cells": [
  {
   "cell_type": "markdown",
   "id": "61d904fe-155a-473f-8ab7-abb96f248f5d",
   "metadata": {
    "tags": []
   },
   "source": [
    "## 说明\n",
    "\n",
    "> 不想看下面文字就看视频说明，至少看一个吧，可以少些问题: https://www.bilibili.com/video/BV1yj411m7EH/\n",
    "\n",
    "![](https://oss.talesofai.cn/public/s_2023-04-13%20at%2022.28.22.png?cc0429)\n",
    "- 启动和重启 webui 点上方工具栏中的「重启并运行所有单元格」。出现 `http://0.0.0.0:6006` 这个字样就算成功了。可以去 autodl 控制台打开「自定义服务」了\n",
    "- 首次启动需要下载基本的模型，请稍等几分钟\n",
    "- 镜像在 A5000, 3090, 3080 上测试没问题\n",
    "- 模型路径：`/root/autodl-tmp/models` 里的对应目录下\n",
    "  - 建议通过预置的「模型下载」插件直接下载 civitai 模型会比较快\n",
    "  - 也可以自己上传模型到上述目录\n",
    "- 数据盘空间不够，可以考虑删除 /root/autodl-tmp/models/controlnet_annotator 目录，里面都是预处理器\n",
    "- 插件只默认开启了部分，有需要可以自行去开启并重启即可\n",
    "![](https://files.tzwm.me/images/2023/10/20231023163439.webp)\n",
    "\n",
    "## 功能介绍\n",
    "\n",
    "- AUTOMATIC1111/stable-diffusion-webui \\[v1.6.0\\]\n",
    "- Python 3.10.6 + Torch 2.0.1 + cuda 11.8 + xformers 0.0.20\n",
    "- ControlNet v1.1 所有模型和预处理器\n",
    "- 常用功能的 model 都已经下载好，包括各种 upscaler、CLIP、tagger、segment anything、deforum 等\n",
    "- 常用的插件，包括 roop、segment anything、all in one、tagcomplete、image browser、system-info、two shot、regional prompter、a1111-sd-webui-lycoris、sd-webui-lora-block-weight、multidiffusion-upscaler、deforum、TemporalKit\n",
    "- 包含一个常用的 VAE、embedding 和 LoRA\n",
    "- 调整了 model 目录，用数据盘来存放各种 model 防止很快就空间不足\n",
    "- git 配置了学术资源加速\n",
    "- 调整了默认配置，支持 multiple ControlNet、增加了 ControlNet 缓存 model 数量等\n",
    "\n",
    "## 有问题请联系\n",
    "\n",
    "- Email：shen@shenl.com\n",
    "- GitHub: https://github.com/hustshenl/autodl-sd-webui\n",
    "\n",
    "\n",
    "## ChangeLog\n",
    "\n",
    "- 20231222 v1\n",
    "  - 初始版本发布，用于星辰推\n",
    "  - 本项目源自：https://github.com/tzwm/autodl-sd-webui"
   ]
  },
  {
   "cell_type": "code",
   "execution_count": null,
   "id": "d09e6df8-aea3-46ad-8f3f-3b5670fbdbcd",
   "metadata": {},
   "outputs": [],
   "source": [
    "# 初始化\n",
    "!cd /root/xct-autodl-sd-webui/common/scripts\n",
    "!bash /root/xct-autodl-sd-webui/common/scripts/init-download.sh checkpoint_sd15_xct\n",
    "!bash /root/xct-autodl-sd-webui/common/scripts/init-download.sh vae_xct\n",
    "!bash /root/xct-autodl-sd-webui/common/scripts/init-download.sh lora_xct\n",
    "!bash /root/xct-autodl-sd-webui/common/scripts/init-download.sh embeddings\n",
    "#!bash /root/xct-autodl-sd-webui/common/scripts/init-download.sh controlnet_sd15_v1_1_lite\n",
    "#!bash /root/xct-autodl-sd-webui/common/scripts/init-download.sh controlnet_sd15_v1_1_400\n",
    "#!bash /root/xct-autodl-sd-webui/common/scripts/init-download.sh controlnet_sd15_others\n",
    "#!bash /root/xct-autodl-sd-webui/common/scripts/init-download.sh controlnet_sdxl_v1_1_400\n",
    "!bash /root/xct-autodl-sd-webui/common/scripts/init-download.sh controlnet_sd15_v1_1_400_xct\n",
    "!bash /root/xct-autodl-sd-webui/common/scripts/init-download.sh lycoris\n",
    "!bash /root/xct-autodl-sd-webui/common/scripts/init-download.sh controlnet_annotator_xct\n",
    "!bash /root/xct-autodl-sd-webui/common/scripts/init-download.sh segment_anything\n",
    "!bash /root/xct-autodl-sd-webui/common/scripts/init-download.sh Deforum\n",
    "!bash /root/xct-autodl-sd-webui/common/scripts/init-download.sh u2net\n",
    "!bash /root/xct-autodl-sd-webui/common/scripts/init-download.sh SadTalker\n",
    "!bash /root/xct-autodl-sd-webui/common/scripts/init-download.sh animatediff_model\n",
    "!bash /root/xct-autodl-sd-webui/common/scripts/init-download.sh animatediff_lora\n",
    "!bash /root/xct-autodl-sd-webui/common/scripts/init-download.sh cache\n",
    "!echo \"初始化结束\""
   ]
  },
  {
   "cell_type": "code",
   "execution_count": null,
   "id": "5ccd9add-7fbe-49a3-bc52-82541762a332",
   "metadata": {},
   "outputs": [],
   "source": [
    "# 空间不够没有执行的初始化\n",
    "#!bash /root/xct-autodl-sd-webui/common/scripts/init-download.sh checkpoint_sdxl\n",
    "#!bash /root/xct-autodl-sd-webui/common/scripts/init-download.sh controlnet_sd15_v1_1_full"
   ]
  },
  {
   "cell_type": "code",
   "execution_count": null,
   "id": "e1bccb7d-b567-4652-9b44-bd8864531885",
   "metadata": {
    "tags": []
   },
   "outputs": [],
   "source": [
    "# 启动\n",
    "!source /root/xct-autodl-sd-webui/common/scripts/init-proxy.sh global && \\\n",
    "bash /root/xct-autodl-sd-webui/a1111-pack/scripts/restart-webui.sh"
   ]
  }
 ],
 "metadata": {
  "kernelspec": {
   "display_name": "Python 3 (ipykernel)",
   "language": "python",
   "name": "python3"
  },
  "language_info": {
   "codemirror_mode": {
    "name": "ipython",
    "version": 3
   },
   "file_extension": ".py",
   "mimetype": "text/x-python",
   "name": "python",
   "nbconvert_exporter": "python",
   "pygments_lexer": "ipython3",
   "version": "3.10.6"
  }
 },
 "nbformat": 4,
 "nbformat_minor": 5
}
