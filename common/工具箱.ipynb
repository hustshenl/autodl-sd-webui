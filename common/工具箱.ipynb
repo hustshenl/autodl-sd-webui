{
 "cells": [
  {
   "cell_type": "markdown",
   "id": "5832f191-3328-43d7-a7fb-14f76998631c",
   "metadata": {
    "tags": []
   },
   "source": [
    "#### 请按需单独执行每个格子的代码\n",
    "有问题可以加微信交流群\n",
    "\n",
    "![](https://oss.talesofai.cn/public/sd_group_qrcode.png)"
   ]
  },
  {
   "cell_type": "code",
   "execution_count": null,
   "id": "b616ca1c-8701-4323-b1f7-cacf318b187b",
   "metadata": {
    "tags": []
   },
   "outputs": [],
   "source": [
    "## 数据盘空间占用\n",
    "!du -h -d 2 /root/autodl-tmp"
   ]
  },
  {
   "cell_type": "code",
   "execution_count": null,
   "id": "04c1d658-0041-4f05-bdab-0e30e9a6249e",
   "metadata": {
    "tags": []
   },
   "outputs": [],
   "source": [
    "## 杀掉 calm（启动 webui 的时候会自动启动 calm，这里只杀掉无法启动）\n",
    "!pkill calm"
   ]
  },
  {
   "cell_type": "code",
   "execution_count": null,
   "id": "8404ab73-4609-40bd-92d6-ca5a94275df5",
   "metadata": {},
   "outputs": [],
   "source": [
    "## 删除一个目录，请把 xxxx 改成你想删除的路径，比如 webui 的生成图片路径： /root/autodl-tmp/webui_outputs\n",
    "!rm -rf xxxx"
   ]
  },
  {
   "cell_type": "code",
   "execution_count": null,
   "id": "23ac60f7-8a60-43d9-beee-13d873eaa78e",
   "metadata": {},
   "outputs": [],
   "source": [
    "## 打包生成的图片，压缩后放在 /root/outputs.tar.gz\n",
    "!tar -czvf /root/outputs.tar.gz /root/autodl-tmp/webui_outputs"
   ]
  },
  {
   "cell_type": "code",
   "execution_count": null,
   "id": "881e0411-8aa4-4a03-bf0e-e0f7d549063f",
   "metadata": {},
   "outputs": [],
   "source": [
    "## 下载 SDXL 1.0 模型\n",
    "!bash /root/xct-autodl-sd-webui/common/scripts/download-sdxl.sh"
   ]
  }
 ],
 "metadata": {
  "kernelspec": {
   "display_name": "Python 3 (ipykernel)",
   "language": "python",
   "name": "python3"
  },
  "language_info": {
   "codemirror_mode": {
    "name": "ipython",
    "version": 3
   },
   "file_extension": ".py",
   "mimetype": "text/x-python",
   "name": "python",
   "nbconvert_exporter": "python",
   "pygments_lexer": "ipython3",
   "version": "3.10.6"
  }
 },
 "nbformat": 4,
 "nbformat_minor": 5
}
